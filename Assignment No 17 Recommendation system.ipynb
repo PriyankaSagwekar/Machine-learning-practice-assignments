{
 "cells": [
  {
   "cell_type": "markdown",
   "metadata": {},
   "source": [
    "# Recommendation System - Collaborative filtering"
   ]
  },
  {
   "cell_type": "code",
   "execution_count": 1,
   "metadata": {},
   "outputs": [],
   "source": [
    "import numpy as np\n",
    "import pandas as pd\n",
    "import matplotlib.pyplot as plt\n",
    "import seaborn as sns"
   ]
  },
  {
   "cell_type": "code",
   "execution_count": 2,
   "metadata": {},
   "outputs": [
    {
     "data": {
      "text/html": [
       "<div>\n",
       "<style scoped>\n",
       "    .dataframe tbody tr th:only-of-type {\n",
       "        vertical-align: middle;\n",
       "    }\n",
       "\n",
       "    .dataframe tbody tr th {\n",
       "        vertical-align: top;\n",
       "    }\n",
       "\n",
       "    .dataframe thead th {\n",
       "        text-align: right;\n",
       "    }\n",
       "</style>\n",
       "<table border=\"1\" class=\"dataframe\">\n",
       "  <thead>\n",
       "    <tr style=\"text-align: right;\">\n",
       "      <th></th>\n",
       "      <th>ChildBks</th>\n",
       "      <th>YouthBks</th>\n",
       "      <th>CookBks</th>\n",
       "      <th>DoItYBks</th>\n",
       "      <th>RefBks</th>\n",
       "      <th>ArtBks</th>\n",
       "      <th>GeogBks</th>\n",
       "      <th>ItalCook</th>\n",
       "      <th>ItalAtlas</th>\n",
       "      <th>ItalArt</th>\n",
       "      <th>Florence</th>\n",
       "    </tr>\n",
       "  </thead>\n",
       "  <tbody>\n",
       "    <tr>\n",
       "      <th>0</th>\n",
       "      <td>0</td>\n",
       "      <td>1</td>\n",
       "      <td>0</td>\n",
       "      <td>1</td>\n",
       "      <td>0</td>\n",
       "      <td>0</td>\n",
       "      <td>1</td>\n",
       "      <td>0</td>\n",
       "      <td>0</td>\n",
       "      <td>0</td>\n",
       "      <td>0</td>\n",
       "    </tr>\n",
       "    <tr>\n",
       "      <th>1</th>\n",
       "      <td>1</td>\n",
       "      <td>0</td>\n",
       "      <td>0</td>\n",
       "      <td>0</td>\n",
       "      <td>0</td>\n",
       "      <td>0</td>\n",
       "      <td>0</td>\n",
       "      <td>0</td>\n",
       "      <td>0</td>\n",
       "      <td>0</td>\n",
       "      <td>0</td>\n",
       "    </tr>\n",
       "    <tr>\n",
       "      <th>2</th>\n",
       "      <td>0</td>\n",
       "      <td>0</td>\n",
       "      <td>0</td>\n",
       "      <td>0</td>\n",
       "      <td>0</td>\n",
       "      <td>0</td>\n",
       "      <td>0</td>\n",
       "      <td>0</td>\n",
       "      <td>0</td>\n",
       "      <td>0</td>\n",
       "      <td>0</td>\n",
       "    </tr>\n",
       "    <tr>\n",
       "      <th>3</th>\n",
       "      <td>1</td>\n",
       "      <td>1</td>\n",
       "      <td>1</td>\n",
       "      <td>0</td>\n",
       "      <td>1</td>\n",
       "      <td>0</td>\n",
       "      <td>1</td>\n",
       "      <td>0</td>\n",
       "      <td>0</td>\n",
       "      <td>0</td>\n",
       "      <td>0</td>\n",
       "    </tr>\n",
       "    <tr>\n",
       "      <th>4</th>\n",
       "      <td>0</td>\n",
       "      <td>0</td>\n",
       "      <td>1</td>\n",
       "      <td>0</td>\n",
       "      <td>0</td>\n",
       "      <td>0</td>\n",
       "      <td>1</td>\n",
       "      <td>0</td>\n",
       "      <td>0</td>\n",
       "      <td>0</td>\n",
       "      <td>0</td>\n",
       "    </tr>\n",
       "  </tbody>\n",
       "</table>\n",
       "</div>"
      ],
      "text/plain": [
       "   ChildBks  YouthBks  CookBks  DoItYBks  RefBks  ArtBks  GeogBks  ItalCook  \\\n",
       "0         0         1        0         1       0       0        1         0   \n",
       "1         1         0        0         0       0       0        0         0   \n",
       "2         0         0        0         0       0       0        0         0   \n",
       "3         1         1        1         0       1       0        1         0   \n",
       "4         0         0        1         0       0       0        1         0   \n",
       "\n",
       "   ItalAtlas  ItalArt  Florence  \n",
       "0          0        0         0  \n",
       "1          0        0         0  \n",
       "2          0        0         0  \n",
       "3          0        0         0  \n",
       "4          0        0         0  "
      ]
     },
     "execution_count": 2,
     "metadata": {},
     "output_type": "execute_result"
    }
   ],
   "source": [
    "df = pd.read_csv('book.csv')\n",
    "df.head()"
   ]
  },
  {
   "cell_type": "code",
   "execution_count": 3,
   "metadata": {},
   "outputs": [],
   "source": [
    "df.shape\n",
    "\n",
    "# There are 2000 readers and 11 books\n",
    "# We have created user-item ratings matrix based on whether the user have rated the book or not\n",
    "\n",
    "N = df.shape[0] # no of readers\n",
    "M = df.shape[1] # no of books"
   ]
  },
  {
   "cell_type": "markdown",
   "metadata": {},
   "source": [
    "### User-user collaborative filtering"
   ]
  },
  {
   "cell_type": "code",
   "execution_count": 4,
   "metadata": {},
   "outputs": [
    {
     "data": {
      "text/html": [
       "<div>\n",
       "<style scoped>\n",
       "    .dataframe tbody tr th:only-of-type {\n",
       "        vertical-align: middle;\n",
       "    }\n",
       "\n",
       "    .dataframe tbody tr th {\n",
       "        vertical-align: top;\n",
       "    }\n",
       "\n",
       "    .dataframe thead th {\n",
       "        text-align: right;\n",
       "    }\n",
       "</style>\n",
       "<table border=\"1\" class=\"dataframe\">\n",
       "  <thead>\n",
       "    <tr style=\"text-align: right;\">\n",
       "      <th></th>\n",
       "      <th>0</th>\n",
       "      <th>1</th>\n",
       "      <th>2</th>\n",
       "      <th>3</th>\n",
       "      <th>4</th>\n",
       "    </tr>\n",
       "  </thead>\n",
       "  <tbody>\n",
       "    <tr>\n",
       "      <th>0</th>\n",
       "      <td>1.000000</td>\n",
       "      <td>0.000000</td>\n",
       "      <td>0.0</td>\n",
       "      <td>0.516398</td>\n",
       "      <td>0.408248</td>\n",
       "    </tr>\n",
       "    <tr>\n",
       "      <th>1</th>\n",
       "      <td>0.000000</td>\n",
       "      <td>1.000000</td>\n",
       "      <td>0.0</td>\n",
       "      <td>0.447214</td>\n",
       "      <td>0.000000</td>\n",
       "    </tr>\n",
       "    <tr>\n",
       "      <th>2</th>\n",
       "      <td>0.000000</td>\n",
       "      <td>0.000000</td>\n",
       "      <td>1.0</td>\n",
       "      <td>0.000000</td>\n",
       "      <td>0.000000</td>\n",
       "    </tr>\n",
       "    <tr>\n",
       "      <th>3</th>\n",
       "      <td>0.516398</td>\n",
       "      <td>0.447214</td>\n",
       "      <td>0.0</td>\n",
       "      <td>1.000000</td>\n",
       "      <td>0.632456</td>\n",
       "    </tr>\n",
       "    <tr>\n",
       "      <th>4</th>\n",
       "      <td>0.408248</td>\n",
       "      <td>0.000000</td>\n",
       "      <td>0.0</td>\n",
       "      <td>0.632456</td>\n",
       "      <td>1.000000</td>\n",
       "    </tr>\n",
       "  </tbody>\n",
       "</table>\n",
       "</div>"
      ],
      "text/plain": [
       "          0         1    2         3         4\n",
       "0  1.000000  0.000000  0.0  0.516398  0.408248\n",
       "1  0.000000  1.000000  0.0  0.447214  0.000000\n",
       "2  0.000000  0.000000  1.0  0.000000  0.000000\n",
       "3  0.516398  0.447214  0.0  1.000000  0.632456\n",
       "4  0.408248  0.000000  0.0  0.632456  1.000000"
      ]
     },
     "execution_count": 4,
     "metadata": {},
     "output_type": "execute_result"
    }
   ],
   "source": [
    "# First we shall calculate similarity using cosine similarity metrics between reader i and all other readers. To group together \n",
    "# readers with similar taste for books\n",
    "\n",
    "from sklearn.metrics import pairwise_distances \n",
    "from scipy.spatial.distance import cosine, correlation\n",
    "\n",
    "reader_sim = 1 - pairwise_distances(df.values,metric='cosine') \n",
    "\n",
    "\n",
    "reader_sim_df = pd.DataFrame(reader_sim)         #Store the results in a dataframe\n",
    "reader_sim_df.index = df.index.unique()          #Set the index and column names to user ids \n",
    "reader_sim_df.columns = df.index.unique()\n",
    "reader_sim_df.iloc[0:5, 0:5]                     # Similarity matrix"
   ]
  },
  {
   "cell_type": "code",
   "execution_count": 5,
   "metadata": {},
   "outputs": [
    {
     "name": "stdout",
     "output_type": "stream",
     "text": [
      "Enter reader id: (an integer between 0 and 1999) 9\n"
     ]
    }
   ],
   "source": [
    "i = int(input('Enter reader id: (an integer between 0 and 1999) ')) # Accepting reader id"
   ]
  },
  {
   "cell_type": "code",
   "execution_count": 6,
   "metadata": {},
   "outputs": [
    {
     "data": {
      "text/plain": [
       "ChildBks     1\n",
       "YouthBks     1\n",
       "CookBks      1\n",
       "DoItYBks     0\n",
       "RefBks       0\n",
       "ArtBks       0\n",
       "GeogBks      1\n",
       "ItalCook     0\n",
       "ItalAtlas    0\n",
       "ItalArt      0\n",
       "Florence     0\n",
       "Name: 9, dtype: int64"
      ]
     },
     "execution_count": 6,
     "metadata": {},
     "output_type": "execute_result"
    }
   ],
   "source": [
    "# Reader i profile\n",
    "df.iloc[i,:]"
   ]
  },
  {
   "cell_type": "code",
   "execution_count": 7,
   "metadata": {},
   "outputs": [
    {
     "name": "stdout",
     "output_type": "stream",
     "text": [
      "\n",
      "\n",
      "\n",
      " Reader 9       Number of books read: 4\n"
     ]
    }
   ],
   "source": [
    "N = df.shape[0] # Total number of readers\n",
    "K=30            # Limit for number of similar readers/neighbours\n",
    "neighbors = []\n",
    "\n",
    "try:\n",
    "    print(f'\\n\\n\\n Reader {i:<{7}} Number of books read:', df.iloc[i,:].value_counts()[1])\n",
    "    \n",
    "    for j in range(N):\n",
    "        try:\n",
    "            if (reader_sim_df[i][j] > 0.5) & (round(reader_sim_df[i][j],2) != 1) & (df.iloc[i,:].value_counts()[1] < df.iloc[j,:].value_counts()[1]):\n",
    "                neighbors.append((reader_sim_df[i][j],j,df.iloc[j,:].value_counts()[1]))\n",
    "                neighbors.sort(key = lambda x: x[0],reverse=True) \n",
    "                if len(neighbors)>K:\n",
    "                    del neighbors[-1]\n",
    "        except:\n",
    "            continue\n",
    "\n",
    "except:\n",
    "    print(f'\\n\\n\\n Reader {i:<{7}} New user, Cold start issue, Popular book recommended') #try bookid 2\n",
    "    neighbors = []\n"
   ]
  },
  {
   "cell_type": "code",
   "execution_count": 8,
   "metadata": {},
   "outputs": [
    {
     "data": {
      "text/plain": [
       "30"
      ]
     },
     "execution_count": 8,
     "metadata": {},
     "output_type": "execute_result"
    }
   ],
   "source": [
    "len(neighbors)"
   ]
  },
  {
   "cell_type": "code",
   "execution_count": 9,
   "metadata": {},
   "outputs": [
    {
     "name": "stdout",
     "output_type": "stream",
     "text": [
      "\n",
      "(similarity score),(bookid),(number of books read)\n",
      "\n"
     ]
    },
    {
     "data": {
      "text/plain": [
       "[(0.8944271909999159, 3, 5),\n",
       " (0.8944271909999159, 98, 5),\n",
       " (0.8944271909999159, 158, 5),\n",
       " (0.8944271909999159, 362, 5),\n",
       " (0.8944271909999159, 442, 5),\n",
       " (0.8944271909999159, 503, 5),\n",
       " (0.8944271909999159, 540, 5),\n",
       " (0.8944271909999159, 629, 5),\n",
       " (0.8944271909999159, 659, 5),\n",
       " (0.8944271909999159, 698, 5),\n",
       " (0.8944271909999159, 851, 5),\n",
       " (0.8944271909999159, 897, 5),\n",
       " (0.8944271909999159, 977, 5),\n",
       " (0.8944271909999159, 1000, 5),\n",
       " (0.8944271909999159, 1004, 5),\n",
       " (0.8944271909999159, 1035, 5),\n",
       " (0.8944271909999159, 1059, 5),\n",
       " (0.8944271909999159, 1079, 5),\n",
       " (0.8944271909999159, 1150, 5),\n",
       " (0.8944271909999159, 1167, 5),\n",
       " (0.8944271909999159, 1188, 5),\n",
       " (0.8944271909999159, 1285, 5),\n",
       " (0.8944271909999159, 1290, 5),\n",
       " (0.8944271909999159, 1302, 5),\n",
       " (0.8944271909999159, 1348, 5),\n",
       " (0.8944271909999159, 1414, 5),\n",
       " (0.8944271909999159, 1455, 5),\n",
       " (0.8944271909999159, 1515, 5),\n",
       " (0.8944271909999159, 1545, 5),\n",
       " (0.8944271909999159, 1653, 5)]"
      ]
     },
     "execution_count": 9,
     "metadata": {},
     "output_type": "execute_result"
    }
   ],
   "source": [
    "print('\\n(similarity score),(bookid),(number of books read)\\n')\n",
    "neighbors"
   ]
  },
  {
   "cell_type": "code",
   "execution_count": 10,
   "metadata": {},
   "outputs": [],
   "source": [
    "if neighbors==[[]]:\n",
    "    print('Read all') #try bookid 793"
   ]
  },
  {
   "cell_type": "code",
   "execution_count": 11,
   "metadata": {},
   "outputs": [
    {
     "data": {
      "text/plain": [
       "[3,\n",
       " 98,\n",
       " 158,\n",
       " 362,\n",
       " 442,\n",
       " 503,\n",
       " 540,\n",
       " 629,\n",
       " 659,\n",
       " 698,\n",
       " 851,\n",
       " 897,\n",
       " 977,\n",
       " 1000,\n",
       " 1004,\n",
       " 1035,\n",
       " 1059,\n",
       " 1079,\n",
       " 1150,\n",
       " 1167,\n",
       " 1188,\n",
       " 1285,\n",
       " 1290,\n",
       " 1302,\n",
       " 1348,\n",
       " 1414,\n",
       " 1455,\n",
       " 1515,\n",
       " 1545,\n",
       " 1653]"
      ]
     },
     "execution_count": 11,
     "metadata": {},
     "output_type": "execute_result"
    }
   ],
   "source": [
    "# Readers found similar to reader i \n",
    "n_idx = [neighbors[j][1] for j in range(0,len(neighbors))]\n",
    "n_idx"
   ]
  },
  {
   "cell_type": "code",
   "execution_count": 12,
   "metadata": {},
   "outputs": [
    {
     "data": {
      "text/plain": [
       "['ChildBks', 'YouthBks', 'CookBks', 'GeogBks']"
      ]
     },
     "execution_count": 12,
     "metadata": {},
     "output_type": "execute_result"
    }
   ],
   "source": [
    "# List the books read by reader i\n",
    "reader_books = []\n",
    "for c, col in enumerate(df.columns):\n",
    "    if df.iloc[i,c]==1:\n",
    "        reader_books.append(col)\n",
    "reader_books"
   ]
  },
  {
   "cell_type": "code",
   "execution_count": 13,
   "metadata": {},
   "outputs": [
    {
     "data": {
      "text/html": [
       "<div>\n",
       "<style scoped>\n",
       "    .dataframe tbody tr th:only-of-type {\n",
       "        vertical-align: middle;\n",
       "    }\n",
       "\n",
       "    .dataframe tbody tr th {\n",
       "        vertical-align: top;\n",
       "    }\n",
       "\n",
       "    .dataframe thead th {\n",
       "        text-align: right;\n",
       "    }\n",
       "</style>\n",
       "<table border=\"1\" class=\"dataframe\">\n",
       "  <thead>\n",
       "    <tr style=\"text-align: right;\">\n",
       "      <th></th>\n",
       "      <th>Books Recommended</th>\n",
       "    </tr>\n",
       "  </thead>\n",
       "  <tbody>\n",
       "    <tr>\n",
       "      <th>10</th>\n",
       "      <td>DoItYBks</td>\n",
       "    </tr>\n",
       "    <tr>\n",
       "      <th>7</th>\n",
       "      <td>RefBks</td>\n",
       "    </tr>\n",
       "    <tr>\n",
       "      <th>6</th>\n",
       "      <td>ArtBks</td>\n",
       "    </tr>\n",
       "  </tbody>\n",
       "</table>\n",
       "</div>"
      ],
      "text/plain": [
       "   Books Recommended\n",
       "10          DoItYBks\n",
       "7             RefBks\n",
       "6             ArtBks"
      ]
     },
     "execution_count": 13,
     "metadata": {},
     "output_type": "execute_result"
    }
   ],
   "source": [
    "# Recommendation based on books rated the most by readers similar to reader i\n",
    "books= df[df.index.isin(n_idx)].copy()\n",
    "books.drop(columns=reader_books,inplace=True)\n",
    "books= pd.DataFrame(books.columns, books.sum(axis=0).values,columns=['Books Recommended']).sort_index(ascending=False)\n",
    "books[:3]"
   ]
  },
  {
   "cell_type": "code",
   "execution_count": 14,
   "metadata": {},
   "outputs": [
    {
     "data": {
      "text/plain": [
       "CookBks     862\n",
       "ChildBks    846\n",
       "DoItYBks    564\n",
       "dtype: int64"
      ]
     },
     "execution_count": 14,
     "metadata": {},
     "output_type": "execute_result"
    }
   ],
   "source": [
    "# recommendation based on highest rated book to resolve cold start issue\n",
    "df.sum(axis=0).sort_values(ascending=False)[0:3]\n",
    "\n",
    "# Cookbooks and Childbooks are most popular"
   ]
  },
  {
   "cell_type": "markdown",
   "metadata": {},
   "source": [
    "### Item-item collaborative filtering"
   ]
  },
  {
   "cell_type": "code",
   "execution_count": 15,
   "metadata": {},
   "outputs": [],
   "source": [
    "# Refer assignment 14 Association rules"
   ]
  },
  {
   "cell_type": "markdown",
   "metadata": {},
   "source": [
    "# Thank you!"
   ]
  }
 ],
 "metadata": {
  "kernelspec": {
   "display_name": "Python 3",
   "language": "python",
   "name": "python3"
  },
  "language_info": {
   "codemirror_mode": {
    "name": "ipython",
    "version": 3
   },
   "file_extension": ".py",
   "mimetype": "text/x-python",
   "name": "python",
   "nbconvert_exporter": "python",
   "pygments_lexer": "ipython3",
   "version": "3.8.3"
  }
 },
 "nbformat": 4,
 "nbformat_minor": 4
}
